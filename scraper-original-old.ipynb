{
 "cells": [
  {
   "cell_type": "markdown",
   "metadata": {},
   "source": [
    " # Fetch Rewards - Data Challenge - Frankenstein Hidden Sentences\n",
    " \n",
    " - this notebook gives the \"prototype\" built for the scraper. From this prototype, the next step is to make a ScraperClass."
   ]
  },
  {
   "cell_type": "code",
   "execution_count": null,
   "metadata": {},
   "outputs": [],
   "source": [
    "class FrankensteinScraper:\n",
    "    #bookend_symbols\n",
    "    #punctuation\n",
    "    def __init__(self,doc):\n",
    "        self._raw_doc = doc\n",
    "        \n",
    "    def tokenize():\n",
    "        pass\n",
    "    def make_bag_of_words():\n",
    "        pass\n",
    "    \n",
    "    def "
   ]
  },
  {
   "cell_type": "code",
   "execution_count": 4,
   "metadata": {},
   "outputs": [
    {
     "name": "stderr",
     "output_type": "stream",
     "text": [
      "[nltk_data] Downloading package punkt to\n",
      "[nltk_data]     /Users/michaelkranz/nltk_data...\n",
      "[nltk_data]   Package punkt is already up-to-date!\n"
     ]
    }
   ],
   "source": [
    "import nltk\n",
    "nltk.download('punkt')\n",
    "from nltk.tokenize import word_tokenize\n",
    "from collections import Counter\n",
    "import pandas as pd\n",
    "import matplotlib.pyplot as plt"
   ]
  },
  {
   "cell_type": "code",
   "execution_count": 19,
   "metadata": {},
   "outputs": [],
   "source": [
    "text_str = '''\n",
    "Letter 1\n",
    "To Mrs. Saville, England. <Scrapers<\n",
    "St. Petersburgh, Dec. 11th, 17—.\n",
    "You will rejoice to hear that no disaster has accompanied the commencement of an enterprise which you have regarded with such evil forebodings. I arrived here yesterday, and my first task is to assure my $You$ dear sister of my welfare and increasing confidence in the success of my undertaking.\n",
    "I am already far north of London, and as I walk in the streets of Petersburgh, I feel a cold northern breeze play upon my cheeks, which braces my nerves and fills me with delight. Do you understand this feeling? This breeze, which has travelled from the regions towards which I am advancing, gives me a foretaste of those icy climes. Inspirited by this wind of promise, my daydreams become more fervent and vivid. I try in vain to be persuaded that the pole is the seat of frost and desolation; it ever presents $are$ itself to my imagination as the region of beauty and delight. There, Margaret, the sun is for ever visible, its broad disk just skirting the horizon and diffusing a perpetual splendour. There—for with your leave, my sister, I will put some trust in preceding navigators—there snow and frost are banished; and, sailing over a calm sea, we may be wafted to a land surpassing *You're* in wonders and in beauty every region hitherto discovered on the habitable globe. Its productions and features may be without example, as the phenomena of the heavenly bodies undoubtedly are in those undiscovered solitudes. What may not be expected in a country of eternal light? I may there discover the wondrous power which attracts the needle and may regulate a thousand celestial observations that require only this voyage to render their seeming eccentricities consistent for ever. I shall satiate my ardent curiosity with the sight of a part of the world never before visited, and may tread a land never before imprinted by the foot of man. These are my enticements, and they are sufficient to conquer all fear of danger or death and to induce me to commence this laborious voyage with the joy a child feels when he embarks in a little boat, with his holiday mates, on an expedition of discovery up his native river. But supposing all these conjectures to be false, you cannot contest the inestimable benefit which I shall confer on all mankind, to the last generation, by discovering a passage near the pole to those countries, to reach which at present so many months are requisite; or by ascertaining the secret of the magnet, which, if at all possible, can only be effected by an undertaking such as mine.\n",
    "These reflections have dispelled the agitation with which I began my letter, and I feel my heart glow with an enthusiasm which elevates me to heaven, for nothing contributes so much to tranquillise the mind as a steady purpose—a point on which the soul may fix its intellectual eye. This expedition has been the favourite dream of my early years. #Found# I have read with ardour the accounts of the various voyages which have been made in the prospect of arriving at the North Pacific Ocean through the seas which surround the pole. You may remember that a history of all the voyages made for purposes of discovery composed the whole of our good Uncle Thomas’ library. My education was neglected, yet I was passionately fond of reading. These volumes were my study day and night, and my familiarity with them increased that regret which I had felt, as a child, on learning that my father’s dying injunction had forbidden my uncle to allow me to embark in a seafaring life.\n",
    "These visions faded when I perused, for the first time, those poets whose effusions entranced my soul and lifted it to heaven. I also became a poet and for one year lived in a paradise of my own creation; I imagined that I also might obtain a niche in the temple where the names of Homer and Shakespeare are consecrated. You are well acquainted with *killin* my failure and how heavily I bore the disappointment. But just at that time I inherited the fortune of my cousin, and my thoughts were turned into the channel of their earlier bent.\n",
    "Six years have passed since I resolved on my present undertaking. I can, even now, remember the hour from which I dedicated myself to this great enterprise. I commenced by inuring my body to hardship. I accompanied the whale-fishers on several expeditions to the North Sea; I voluntarily endured cold, famine, thirst, and want of sleep; I often #another# worked harder than the common sailors during the day and devoted my nights to the study of mathematics, the theory of medicine, and those branches of physical science from which a naval adventurer might derive the greatest practical advantage. Twice I actually hired myself as an under-mate in a Greenland whaler, and acquitted myself to admiration. I must own I felt a little proud when my captain offered me the second dignity in the vessel and entreated me to remain with the greatest earnestness, so valuable did he consider my services.\n",
    "And now, dear <for< Margaret, do I not deserve to accomplish some great purpose? My life might have been passed in ease and luxury, but I preferred glory to every enticement that wealth placed in my path. Oh, that some encouraging voice would answer in the affirmative! My courage and my resolution is firm; but my hopes fluctuate, and my spirits are often depressed. I am about to proceed on a long and difficult voyage, the emergencies of which will demand all my fortitude: I am required not only to raise the spirits of others, but sometimes to sustain my own, when theirs are failing.\n",
    "This is the most favourable period for travelling in Russia. They fly quickly over the snow in their sledges; the motion is pleasant, and, in my opinion, far more agreeable than that of an English stagecoach. The $amazing!$ cold is not excessive, if you are wrapped in furs—a dress which I have already adopted, for there is a great difference between walking the deck and remaining seated motionless for hours, when no exercise prevents the blood from actually freezing in your veins. I have no ambition to lose my life on the post-road between St. Petersburgh and Archangel. <the<\n",
    "I shall depart for the latter town in a fortnight or three weeks; and my intention is to hire a ship there, which can easily be done by paying the insurance for the owner, *it!* and to engage as many sailors as I think necessary among those who are accustomed to the whale-fishing. I do not intend to sail until the month of June; and when shall I return? Ah, dear sister, how can I answer this question? If I succeed, many, many months, perhaps years, will pass before you and I may meet. If I fail, you will see me again soon, or never.\n",
    "Farewell, my dear, excellent Margaret. Heaven #one!# shower down blessings on you, and save me, that I may again and again testify my gratitude for all your love and kindness.\n",
    "Your affectionate brother,\n",
    "R. Walton<win!<\n",
    "'''"
   ]
  },
  {
   "cell_type": "code",
   "execution_count": 20,
   "metadata": {},
   "outputs": [],
   "source": [
    "#core python solution, nltk, or spacy or does it not matter?\n",
    "bookend_symbols = {\n",
    "    \"ASTERIX\":'*',\n",
    "    \"LESSTHAN\":'<',\n",
    "    \"DOLLAR\":'$',\n",
    "    \"HASHTAG\":'#'\n",
    "}\n",
    "bookend_chars = list(bookend_symbols.values())\n",
    "punctuation_chars = ['?','!','.',',',';'] #sentence tokenization\n",
    "\n",
    "# word_split_chars = ['—',' '] #word tokenization\n",
    "# other_chars = ['\\n'] \n",
    "\n",
    "# split_chars = [\n",
    "#     \"\\\\\" + char \n",
    "#     for char in (punctuation_chars + \n",
    "#                  word_split_chars +\n",
    "#                  other_chars +\n",
    "#                  bookend_chars)\n",
    "# ]\n",
    "# split_regex = r\"|\".join(split_chars)\n",
    "               \n",
    "# text_tokenized = [\n",
    "#     x \n",
    "#     for x in re.split(split_regex,\n",
    "#                       text_str) \n",
    "#     if x!=''\n",
    "# ]"
   ]
  },
  {
   "cell_type": "code",
   "execution_count": 21,
   "metadata": {},
   "outputs": [],
   "source": [
    "#assumes \"punctuation\" entails both classic punctuation characters and bookend characters\n",
    "text_tokenized = [\n",
    "    word\n",
    "    for word in word_tokenize(text_str.lower())\n",
    "    if word not in punctuation_chars and word not in bookend_chars\n",
    "]"
   ]
  },
  {
   "cell_type": "code",
   "execution_count": 8,
   "metadata": {},
   "outputs": [],
   "source": [
    "#Store all distinct words in the text in a dictionary and keep track of the word counts (make sure to strip all punctuation and lower the case of the words)"
   ]
  },
  {
   "cell_type": "code",
   "execution_count": 9,
   "metadata": {},
   "outputs": [],
   "source": [
    "from gensim.corpora.dictionary import Dictionary"
   ]
  },
  {
   "cell_type": "code",
   "execution_count": 12,
   "metadata": {},
   "outputs": [],
   "source": [
    "dictionary = Dictionary([text_tokenized])"
   ]
  },
  {
   "cell_type": "code",
   "execution_count": 17,
   "metadata": {},
   "outputs": [
    {
     "data": {
      "text/plain": [
       "{}"
      ]
     },
     "execution_count": 17,
     "metadata": {},
     "output_type": "execute_result"
    }
   ],
   "source": [
    "dictionary.(text_tokenized)"
   ]
  },
  {
   "cell_type": "code",
   "execution_count": 22,
   "metadata": {},
   "outputs": [],
   "source": [
    "#given only one document (and not multiple), \n",
    "#can use Counter rather than other tools like gensim to make Dictionary and .doc2bow   \n",
    "text_bow_df = pd.Series(Counter(text_tokenized)).reset_index()\n",
    "text_bow_df.columns = ['word','word_count']\n",
    "text_bow_df['word_length'] = text_bow_df.word.apply(len)"
   ]
  },
  {
   "cell_type": "code",
   "execution_count": 23,
   "metadata": {},
   "outputs": [],
   "source": [
    "#Save the distinct word dictionary as a JSON file (call it 'word_count_dict.json')"
   ]
  },
  {
   "cell_type": "code",
   "execution_count": 24,
   "metadata": {},
   "outputs": [
    {
     "data": {
      "text/plain": [
       "Text(0, 0.5, 'Number of Words (Count)\\nat a Word Length')"
      ]
     },
     "execution_count": 24,
     "metadata": {},
     "output_type": "execute_result"
    },
    {
     "data": {
      "image/png": "[encoded data removed]",
      "text/plain": [
       "<Figure size 432x288 with 1 Axes>"
      ]
     },
     "metadata": {
      "needs_background": "light"
     },
     "output_type": "display_data"
    }
   ],
   "source": [
    "#Plot a histogram of the count of words by word length for all words in the document\n",
    "text_word_count_by_word_length = text_bow_df.groupby('word_length').word_count.sum()\n",
    "\n",
    "\n",
    "fig_word_count_by_word_length = text_word_count_by_word_length.plot(kind='bar')\n",
    "plt.title(\"Count of Words by Word Length \")\n",
    "plt.xlabel(\"Word Length\")\n",
    "plt.ylabel(\"Number of Words (Count)\\nat a Word Length\")"
   ]
  },
  {
   "cell_type": "code",
   "execution_count": 26,
   "metadata": {},
   "outputs": [],
   "source": [
    "import re"
   ]
  },
  {
   "cell_type": "code",
   "execution_count": 28,
   "metadata": {},
   "outputs": [],
   "source": [
    "#Save the 4 hidden sentences together as a list of lists\n",
    "#Remove the 4 hidden sentences from the original text file\n",
    "\n",
    "hidden_sentence_indices = {}\n",
    "hidden_sentence_words = {}\n",
    "for name,symbol in bookend_symbols.items():\n",
    "    tmp_index_list = []\n",
    "    tmp_text_list = []\n",
    "    for match in re.finditer(f\"\\{symbol}.*\\{symbol}\",text_str):\n",
    "        match_indices = match.span()\n",
    "        start,end = match_indices\n",
    "        match_text = text_str[start:end]\n",
    "        tmp_index_list.append(match_indices)\n",
    "        tmp_text_list.append(match_text.replace(symbol,''))\n",
    "    hidden_sentence_indices.update({name:tmp_index_list})\n",
    "    hidden_sentence_words.update({name:tmp_text_list})\n",
    "\n",
    "#for removal, dont care about bookend type so flatten/combine lists\n",
    "flattened_hidden_sentence_indices = [\n",
    "    i \n",
    "    for bookend_indices in hidden_sentence_indices.values() \n",
    "    for i in bookend_indices\n",
    "]\n",
    "#need to put bookend indices in order of which they appear given sequential nature of cleaning approach\n",
    "flattened_hidden_sentence_indices = (\n",
    "    pd.DataFrame(flattened_hidden_sentence_indices)\n",
    "    .sort_values(0)\n",
    "    .to_records(index=False)\n",
    ")\n",
    "#get the substring from right after last bookend to beginning of current bookend\n",
    "clean_string = '' #initiate clean string to be appended\n",
    "clean_start_index = 0 #initiate start index for loop\n",
    "for start,end in flattened_hidden_sentence_indices:\n",
    "    clean_substr = text_str[clean_start_index:start]\n",
    "    clean_string+=clean_substr\n",
    "    clean_start_index = end\n",
    "#add rest of clean text after last bookend\n",
    "clean_string+=text_str[clean_start_index:-1]"
   ]
  },
  {
   "cell_type": "code",
   "execution_count": 29,
   "metadata": {},
   "outputs": [
    {
     "data": {
      "text/plain": [
       "{'ASTERIX': [\"You're\", 'killin', 'it!'],\n",
       " 'LESSTHAN': ['Scrapers', 'for', 'the', 'win!'],\n",
       " 'DOLLAR': ['You', 'are', 'amazing!'],\n",
       " 'HASHTAG': ['Found', 'another', 'one!']}"
      ]
     },
     "execution_count": 29,
     "metadata": {},
     "output_type": "execute_result"
    }
   ],
   "source": [
    "hidden_sentence_words"
   ]
  },
  {
   "cell_type": "code",
   "execution_count": null,
   "metadata": {},
   "outputs": [],
   "source": [
    "#Save the 4 hidden sentences together as a list of lists, then join them and print them with a for loop\n",
    "#save a clean version of the first chapter of Frankenstein to a text file (call it 'Clean_Frankenstein.txt')"
   ]
  },
  {
   "cell_type": "code",
   "execution_count": 207,
   "metadata": {},
   "outputs": [],
   "source": [
    "import re\n",
    "from spacy.lang.en import English # Create the nlp object\n",
    "import spacy\n",
    "from spacy.tokens import Doc,Span,Token"
   ]
  },
  {
   "cell_type": "code",
   "execution_count": 208,
   "metadata": {},
   "outputs": [],
   "source": [
    "nlp = English()"
   ]
  },
  {
   "cell_type": "code",
   "execution_count": 209,
   "metadata": {},
   "outputs": [],
   "source": [
    "doc = nlp.make_doc(text_str)"
   ]
  },
  {
   "cell_type": "code",
   "execution_count": 214,
   "metadata": {
    "collapsed": true
   },
   "outputs": [
    {
     "ename": "NameError",
     "evalue": "name 'remove_bookend_tokens_from_doc' is not defined",
     "output_type": "error",
     "traceback": [
      "\u001b[0;31m---------------------------------------------------------------------------\u001b[0m",
      "\u001b[0;31mNameError\u001b[0m                                 Traceback (most recent call last)",
      "\u001b[0;32m<ipython-input-214-b0a49caa818d>\u001b[0m in \u001b[0;36m<module>\u001b[0;34m\u001b[0m\n\u001b[1;32m      1\u001b[0m \u001b[0mDoc\u001b[0m\u001b[0;34m.\u001b[0m\u001b[0mset_extension\u001b[0m\u001b[0;34m(\u001b[0m\u001b[0;34m'bookend_spans'\u001b[0m\u001b[0;34m,\u001b[0m\u001b[0mmethod\u001b[0m\u001b[0;34m=\u001b[0m\u001b[0mget_bookend_spans\u001b[0m\u001b[0;34m,\u001b[0m\u001b[0mforce\u001b[0m\u001b[0;34m=\u001b[0m\u001b[0;32mTrue\u001b[0m\u001b[0;34m)\u001b[0m \u001b[0;31m#put labels in for spans and tokesn\u001b[0m\u001b[0;34m\u001b[0m\u001b[0;34m\u001b[0m\u001b[0m\n\u001b[0;32m----> 2\u001b[0;31m \u001b[0mDoc\u001b[0m\u001b[0;34m.\u001b[0m\u001b[0mset_extension\u001b[0m\u001b[0;34m(\u001b[0m\u001b[0;34m'text_with_no_bookends'\u001b[0m\u001b[0;34m,\u001b[0m\u001b[0mmethod\u001b[0m\u001b[0;34m=\u001b[0m\u001b[0mremove_bookend_tokens_from_doc\u001b[0m\u001b[0;34m)\u001b[0m\u001b[0;34m\u001b[0m\u001b[0;34m\u001b[0m\u001b[0m\n\u001b[0m\u001b[1;32m      3\u001b[0m \u001b[0;31m#bag of words\u001b[0m\u001b[0;34m\u001b[0m\u001b[0;34m\u001b[0m\u001b[0;34m\u001b[0m\u001b[0m\n\u001b[1;32m      4\u001b[0m \u001b[0mSpan\u001b[0m\u001b[0;34m.\u001b[0m\u001b[0mset_extension\u001b[0m\u001b[0;34m(\u001b[0m\u001b[0;34m'bookend_name'\u001b[0m\u001b[0;34m,\u001b[0m\u001b[0mgetter\u001b[0m\u001b[0;34m=\u001b[0m\u001b[0;32mlambda\u001b[0m \u001b[0mspan\u001b[0m\u001b[0;34m,\u001b[0m\u001b[0mname\u001b[0m\u001b[0;34m:\u001b[0m \u001b[0mname\u001b[0m\u001b[0;34m,\u001b[0m\u001b[0mforce\u001b[0m\u001b[0;34m=\u001b[0m\u001b[0;32mTrue\u001b[0m\u001b[0;34m)\u001b[0m \u001b[0;31m#spacy recommends getter for Spans\u001b[0m\u001b[0;34m\u001b[0m\u001b[0;34m\u001b[0m\u001b[0m\n\u001b[1;32m      5\u001b[0m \u001b[0mToken\u001b[0m\u001b[0;34m.\u001b[0m\u001b[0mset_extension\u001b[0m\u001b[0;34m(\u001b[0m\u001b[0;34m'bookend_name'\u001b[0m\u001b[0;34m,\u001b[0m\u001b[0mdefault\u001b[0m\u001b[0;34m=\u001b[0m\u001b[0;32mNone\u001b[0m\u001b[0;34m,\u001b[0m\u001b[0mforce\u001b[0m\u001b[0;34m=\u001b[0m\u001b[0;32mTrue\u001b[0m\u001b[0;34m)\u001b[0m\u001b[0;34m\u001b[0m\u001b[0;34m\u001b[0m\u001b[0m\n",
      "\u001b[0;31mNameError\u001b[0m: name 'remove_bookend_tokens_from_doc' is not defined"
     ]
    }
   ],
   "source": [
    "#search/manipulation tasks with bookends\n",
    "Doc.set_extension('bookend_spans',method=get_bookend_spans,force=True) #put labels in for spans and tokesn\n",
    "Doc.set_extension('text_with_no_bookends',method=remove_bookend_tokens_from_doc)\n",
    "#summary tasks\n",
    "Doc.set_extension('bag_of_words',getter=get_bag_of_words)\n",
    "Doc.set_extension('word_length_plot',getter=plot_word_length)\n",
    "#span & token bookend properties populated by doc bookend tasks\n",
    "Span.set_extension('bookend_name',getter=lambda span,name: name,force=True) #spacy recommends getter for Spans\n",
    "Token.set_extension('bookend_name',default=None,force=True)\n",
    "Token.set_extension('is_in_bookend',default=False,force=True) #for tokens within bookends\n",
    "Token.set_extension('is_bookend',default=False,force=True) #for bookend tokens"
   ]
  },
  {
   "cell_type": "code",
   "execution_count": 211,
   "metadata": {},
   "outputs": [],
   "source": [
    "def get_bookend_spans(doc,bookend_key):\n",
    "    '''\n",
    "    create booleans for bookend span and type of bookend span\n",
    "     \n",
    "    used for the various tasks\n",
    "    '''\n",
    "    #initiate dict to store bookend spans in\n",
    "    bookend_spans = {name:[] for name in bookend_key.keys()}\n",
    "    \n",
    "    #get spans for each type of bookend\n",
    "    for name,symbol in bookend_key.items():\n",
    "        span_list_tmp = [] #initiate container to store spans\n",
    "        for match in re.finditer(f\"\\{symbol}.*\\{symbol}\",doc.text):\n",
    "            match_indices = match.span()\n",
    "            start,end = match_indices\n",
    "            \n",
    "            #Create a `Span` object from the slice `doc.text[start : end]`.\n",
    "            span = doc.char_span(start, end,label=name+str(start))\n",
    "            span._.bookend_name = name\n",
    "            span_list_tmp.append(span)\n",
    "            \n",
    "            #label tokens within span for easier reference in doc object \n",
    "            #(ie token --> doc based on span membership)\n",
    "            for token in span:\n",
    "                token._.bookend_name = name\n",
    "                if token.text==symbol:\n",
    "                    token._.is_bookend = True\n",
    "                else:\n",
    "                    token._.is_in_bookend = True\n",
    "            \n",
    "        bookend_tokens[name] \n",
    "    return bookend_spans\n",
    "\n",
    "def remove_bookend_tokens_from_text(doc):\n",
    "    '''\n",
    "    Removes the 4 hidden sentences from the original text file\n",
    "    \n",
    "    returns the text attribute with removal.\n",
    "    \n",
    "    TODO: save a clean version of the first chapter of Frankenstein to a text file (call it 'Clean_Frankenstein.txt')\n",
    "    '''\n",
    "    text_list_no_book_ends = [\n",
    "        token.text+token.whitespace_\n",
    "        for token in doc \n",
    "        if (not token._.is_bookend \n",
    "         and not token._.is_in_bookend)\n",
    "    ]\n",
    "    return ''.join(text_list_no_book_ends)\n",
    "\n",
    "\n",
    "def make_bag_of_words(doc):\n",
    "    '''\n",
    "    Stores all distinct words in the text in a dictionary \n",
    "    and keeps track of the word counts \n",
    "    (make sure to strip all punctuation and lower the case of the words)\n",
    "    \n",
    "    - assumes \"punctuation\" entails both classic punctuation characters and bookend characters\n",
    "    - alternatively, the token.is_punct_ attribute could be used (and may be more efficient)\n",
    "    \n",
    "    TODO: Save the distinct word dictionary as a JSON file (call it 'word_count_dict.json')\n",
    "    '''\n",
    "    text_tokenized = [\n",
    "        token.text.lower()\n",
    "        for token in doc\n",
    "        if (not token.text not in punctuation_chars \n",
    "            and token.text not in bookend_chars)\n",
    "    ]\n",
    "    return Counter(text_tokenized)\n",
    "\n",
    "def plot_word_length(doc):\n",
    "    \n",
    "    '''\n",
    "    Plot a histogram of the count of words by word length \n",
    "    for all words in the document\n",
    "    '''\n",
    "    \n",
    "    #get the word counts for each word length\n",
    "    word_lengths = [len(token.text)\n",
    "        for token in doc\n",
    "        if (not token.text not in punctuation_chars \n",
    "            and token.text not in bookend_chars)\n",
    "    ]\n",
    "    bag_of_lengths = pd.Series(Counter(word_lengths)).reset_index()\n",
    "    bag_of_lengths.columns = ['word_length','word_count']\n",
    "    \n",
    "    #plot the word length by the word count for each length\n",
    "    fig_word_count_by_word_length = bag_of_lengths.plot(kind='bar')\n",
    "    plt.title(\"Count of Words by Word Length \")\n",
    "    plt.xlabel(\"Word Length\")\n",
    "    plt.ylabel(\"Number of Words (Count)\\nat a Word Length\")\n",
    "    \n",
    "    return fig_word_count_by_word_length"
   ]
  },
  {
   "cell_type": "code",
   "execution_count": null,
   "metadata": {},
   "outputs": [],
   "source": []
  },
  {
   "cell_type": "code",
   "execution_count": 212,
   "metadata": {},
   "outputs": [],
   "source": [
    "bookend_spans = doc._.bookend_spans(bookend_symbols)\n",
    "for name,spans in bookend_spans.items():\n",
    "    \n",
    "#bag_of_words = \n",
    "#word_length_fig = \n",
    "#clean_text_no_bookends = "
   ]
  },
  {
   "cell_type": "code",
   "execution_count": 213,
   "metadata": {},
   "outputs": [
    {
     "name": "stdout",
     "output_type": "stream",
     "text": [
      "* False\n",
      "You True\n",
      "'re True\n",
      "* False\n",
      "* False\n",
      "killin True\n",
      "* False\n",
      "* False\n",
      "it True\n",
      "! True\n",
      "* False\n"
     ]
    }
   ],
   "source": [
    "for span in test['ASTERIX']:\n",
    "    for token in span:\n",
    "        print(token.text,token._.is_in_bookend)"
   ]
  },
  {
   "cell_type": "code",
   "execution_count": null,
   "metadata": {},
   "outputs": [],
   "source": [
    "class DynamicDoc(Doc):\n",
    "    '''\n",
    "    a sub-class of Doc objects that allows removal of entities \n",
    "    from text and re-instantiate doc instance\n",
    "    '''\n",
    "    def __init__():\n",
    "        pass\n",
    "    \n",
    "    def remove_entities():\n",
    "        pass\n",
    "    \n",
    "    def \n"
   ]
  },
  {
   "cell_type": "code",
   "execution_count": 169,
   "metadata": {},
   "outputs": [],
   "source": [
    "Token.set_extension('is_in_bookend',default=False)"
   ]
  },
  {
   "cell_type": "code",
   "execution_count": 170,
   "metadata": {},
   "outputs": [],
   "source": [
    "test = Span(doc,0,3,label='test')"
   ]
  },
  {
   "cell_type": "code",
   "execution_count": 175,
   "metadata": {},
   "outputs": [],
   "source": [
    "#spacy: create booleans for bookend span and type of bookend span\n",
    "for name,symbol in bookend_symbols.items():\n",
    "    for match in re.finditer(f\"\\{symbol}.*\\{symbol}\",doc.text):\n",
    "        match_indices = match.span()\n",
    "        start,end = match_indices\n",
    "        match_text = text_str[start:end]\n",
    "        span = doc.char_span(start, end)\n",
    "        if span is not None:\n",
    "            print(f\"Found Match for {name} of {span.text}\")"
   ]
  }
 ],
 "metadata": {
  "kernelspec": {
   "display_name": "Python 3",
   "language": "python",
   "name": "python3"
  },
  "language_info": {
   "codemirror_mode": {
    "name": "ipython",
    "version": 3
   },
   "file_extension": ".py",
   "mimetype": "text/x-python",
   "name": "python",
   "nbconvert_exporter": "python",
   "pygments_lexer": "ipython3",
   "version": "3.7.8"
  }
 },
 "nbformat": 4,
 "nbformat_minor": 2
}
