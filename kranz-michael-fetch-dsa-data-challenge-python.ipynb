{
 "cells": [
  {
   "cell_type": "markdown",
   "metadata": {},
   "source": [
    " # Fetch Rewards - Data Challenge - Frankenstein Hidden Sentences\n",
    " \n",
    " **Michael Kranz**\n"
   ]
  },
  {
   "cell_type": "code",
   "execution_count": 3,
   "metadata": {},
   "outputs": [],
   "source": [
    "import pandas as pd\n",
    "import matplotlib.pyplot as plt\n",
    "import re\n",
    "from spacy.lang.en import English # Create the nlp object\n",
    "import spacy\n",
    "from spacy.tokens import Doc,Span,Token\n",
    "from collections import Counter"
   ]
  },
  {
   "cell_type": "code",
   "execution_count": 4,
   "metadata": {},
   "outputs": [],
   "source": [
    "#hidden sentence bookend names and symbols\n",
    "bookend_symbols = {\n",
    "    \"ASTERIX\":'*',\n",
    "    \"LESSTHAN\":'<',\n",
    "    \"DOLLAR\":'$',\n",
    "    \"HASHTAG\":'#'\n",
    "}\n",
    "\n",
    "#to filter for bag of words:\n",
    "bookend_chars = list(bookend_symbols.values())\n",
    "punctuation_chars = ['?','!','.',',',';'] \n",
    "other_chars = ['\\n','-']\n",
    "bag_of_words_chars_to_filter = bookend_chars + punctuation_chars + other_chars"
   ]
  },
  {
   "cell_type": "markdown",
   "metadata": {},
   "source": [
    "## define functions to extend the Doc class properties and methods"
   ]
  },
  {
   "cell_type": "code",
   "execution_count": 15,
   "metadata": {},
   "outputs": [],
   "source": [
    "def get_bookend_spans(doc,bookend_key):\n",
    "    '''\n",
    "    identifies bookend spans and does two things for downstream tasks:\n",
    "    1. create booleans for bookend span and type of bookend span\n",
    "    2. save the span objects of each bookend type in a list\n",
    "    '''\n",
    "    #initiate dict to store bookend spans in\n",
    "    bookend_spans = {name:[] for name in bookend_key.keys()}\n",
    "    \n",
    "    #get spans for each type of bookend\n",
    "    for name,symbol in bookend_key.items():\n",
    "        span_list_tmp = [] #initiate container to store spans\n",
    "        for match in re.finditer(f\"\\{symbol}.*\\{symbol}\",doc.text):\n",
    "            match_indices = match.span()\n",
    "            start,end = match_indices\n",
    "            \n",
    "            #Create a `Span` object from the slice `doc.text[start : end]`.\n",
    "            span = doc.char_span(start, end,label=name+str(start))\n",
    "            span._.bookend_name = name\n",
    "            #span_list_tmp.append(span[1:-1]) #exclude bookends (end index is exclusive)\n",
    "            span_list_tmp.append(span)\n",
    "            \n",
    "            #label tokens within span for easier reference in doc object \n",
    "            #(ie token --> doc based on span membership)\n",
    "            for token in span:\n",
    "                token._.bookend_name = name\n",
    "                if token.text==symbol:\n",
    "                    token._.is_bookend = True\n",
    "                else:\n",
    "                    token._.is_in_bookend = True\n",
    "            \n",
    "        bookend_spans[name] = span_list_tmp \n",
    "    return bookend_spans\n",
    "\n",
    "def remove_bookend_tokens_from_text(doc):\n",
    "    '''\n",
    "    Removes the 4 hidden sentences from the original text file\n",
    "    \n",
    "    returns the text attribute with removal.\n",
    "    \n",
    "    TODO: save a clean version of the first chapter of Frankenstein to a text file \n",
    "    (call it 'Clean_Frankenstein.txt')\n",
    "    '''\n",
    "    text_list_no_book_ends = [\n",
    "        token.text+token.whitespace_\n",
    "        for token in doc \n",
    "        if (not token._.is_bookend \n",
    "             and not token._.is_in_bookend)\n",
    "    ]\n",
    "    \n",
    "    return ''.join(text_list_no_book_ends)\n",
    "\n",
    "\n",
    "def make_bag_of_words(doc):\n",
    "    '''\n",
    "    Stores all distinct words in the text in a Counter dictionary \n",
    "    and keeps track of the word counts \n",
    "    (make sure to strip all punctuation and lower the case of the words)\n",
    "    \n",
    "    - assumes \"punctuation\" entails both classic punctuation characters and bookend characters\n",
    "    - alternatively, the token.is_punct_ attribute could be used (and may be more efficient)\n",
    "    -lemmatization,filtering stop words left out to follow data challenge guideline of \n",
    "     punctuation and lowercase.\n",
    "    \n",
    "    TODO: Save the distinct word dictionary as a JSON file (call it 'word_count_dict.json')\n",
    "    '''\n",
    "    text_tokenized = [\n",
    "        token.text.lower()\n",
    "        for token in doc\n",
    "        if (token.text \n",
    "            not in bag_of_words_chars_to_filter)\n",
    "    ]\n",
    "    return Counter(text_tokenized)\n",
    "\n",
    "def plot_word_length(doc):\n",
    "    \n",
    "    '''\n",
    "    Plot a histogram of the count of words by word length \n",
    "    for all words in the document\n",
    "    '''\n",
    "    \n",
    "    #get the word counts for each word length\n",
    "    word_lengths = [\n",
    "        len(token.text)\n",
    "        for token in doc\n",
    "        if (token.text \n",
    "            not in bag_of_words_chars_to_filter)\n",
    "    ]\n",
    "    bag_of_lengths = (\n",
    "        pd.Series(Counter(word_lengths))\n",
    "        .sort_index()\n",
    "        .reset_index()\n",
    "    )\n",
    "    bag_of_lengths.columns = ['word_length','word_count']\n",
    "    \n",
    "    #plot the word length by the word count for each length\n",
    "    fig_word_count_by_word_length = bag_of_lengths.plot(\n",
    "        kind='bar',\n",
    "        x='word_length',y='word_count',\n",
    "        legend=None\n",
    "    )\n",
    "    plt.title(\"Count of Words by Word Length \")\n",
    "    plt.xlabel(\"Word Length\")\n",
    "    plt.ylabel(\"Number of Words (Count)\\nat a Word Length\")\n",
    "    \n",
    "    return fig_word_count_by_word_length"
   ]
  },
  {
   "cell_type": "markdown",
   "metadata": {},
   "source": [
    "## Add methods and properties to the spacy class objects"
   ]
  },
  {
   "cell_type": "code",
   "execution_count": 16,
   "metadata": {},
   "outputs": [],
   "source": [
    "#search/manipulation tasks with bookends\n",
    "Doc.set_extension('bookend_spans',method=get_bookend_spans,force=True) #put labels in for spans and tokesn\n",
    "Doc.set_extension('text_with_no_bookends',method=remove_bookend_tokens_from_text,force=True)\n",
    "#summary tasks\n",
    "Doc.set_extension('bag_of_words',getter=make_bag_of_words,force=True)\n",
    "Doc.set_extension('word_length_plot',getter=plot_word_length,force=True)\n",
    "#span & token bookend properties populated by doc bookend tasks\n",
    "Span.set_extension('bookend_name',getter=lambda span,name: name,force=True) #spacy recommends getter for Spans\n",
    "Token.set_extension('bookend_name',default=None,force=True)\n",
    "Token.set_extension('is_in_bookend',default=False,force=True) #for tokens within bookends\n",
    "Token.set_extension('is_bookend',default=False,force=True) #for bookend tokens"
   ]
  },
  {
   "cell_type": "markdown",
   "metadata": {},
   "source": [
    "## Frankenstein Chapter 1 copied from the Fetch Data Challenge word document"
   ]
  },
  {
   "cell_type": "code",
   "execution_count": 17,
   "metadata": {},
   "outputs": [],
   "source": [
    "text_str = '''\n",
    "Letter 1\n",
    "To Mrs. Saville, England. <Scrapers<\n",
    "St. Petersburgh, Dec. 11th, 17—.\n",
    "You will rejoice to hear that no disaster has accompanied the commencement of an enterprise which you have regarded with such evil forebodings. I arrived here yesterday, and my first task is to assure my $You$ dear sister of my welfare and increasing confidence in the success of my undertaking.\n",
    "I am already far north of London, and as I walk in the streets of Petersburgh, I feel a cold northern breeze play upon my cheeks, which braces my nerves and fills me with delight. Do you understand this feeling? This breeze, which has travelled from the regions towards which I am advancing, gives me a foretaste of those icy climes. Inspirited by this wind of promise, my daydreams become more fervent and vivid. I try in vain to be persuaded that the pole is the seat of frost and desolation; it ever presents $are$ itself to my imagination as the region of beauty and delight. There, Margaret, the sun is for ever visible, its broad disk just skirting the horizon and diffusing a perpetual splendour. There—for with your leave, my sister, I will put some trust in preceding navigators—there snow and frost are banished; and, sailing over a calm sea, we may be wafted to a land surpassing *You're* in wonders and in beauty every region hitherto discovered on the habitable globe. Its productions and features may be without example, as the phenomena of the heavenly bodies undoubtedly are in those undiscovered solitudes. What may not be expected in a country of eternal light? I may there discover the wondrous power which attracts the needle and may regulate a thousand celestial observations that require only this voyage to render their seeming eccentricities consistent for ever. I shall satiate my ardent curiosity with the sight of a part of the world never before visited, and may tread a land never before imprinted by the foot of man. These are my enticements, and they are sufficient to conquer all fear of danger or death and to induce me to commence this laborious voyage with the joy a child feels when he embarks in a little boat, with his holiday mates, on an expedition of discovery up his native river. But supposing all these conjectures to be false, you cannot contest the inestimable benefit which I shall confer on all mankind, to the last generation, by discovering a passage near the pole to those countries, to reach which at present so many months are requisite; or by ascertaining the secret of the magnet, which, if at all possible, can only be effected by an undertaking such as mine.\n",
    "These reflections have dispelled the agitation with which I began my letter, and I feel my heart glow with an enthusiasm which elevates me to heaven, for nothing contributes so much to tranquillise the mind as a steady purpose—a point on which the soul may fix its intellectual eye. This expedition has been the favourite dream of my early years. #Found# I have read with ardour the accounts of the various voyages which have been made in the prospect of arriving at the North Pacific Ocean through the seas which surround the pole. You may remember that a history of all the voyages made for purposes of discovery composed the whole of our good Uncle Thomas’ library. My education was neglected, yet I was passionately fond of reading. These volumes were my study day and night, and my familiarity with them increased that regret which I had felt, as a child, on learning that my father’s dying injunction had forbidden my uncle to allow me to embark in a seafaring life.\n",
    "These visions faded when I perused, for the first time, those poets whose effusions entranced my soul and lifted it to heaven. I also became a poet and for one year lived in a paradise of my own creation; I imagined that I also might obtain a niche in the temple where the names of Homer and Shakespeare are consecrated. You are well acquainted with *killin* my failure and how heavily I bore the disappointment. But just at that time I inherited the fortune of my cousin, and my thoughts were turned into the channel of their earlier bent.\n",
    "Six years have passed since I resolved on my present undertaking. I can, even now, remember the hour from which I dedicated myself to this great enterprise. I commenced by inuring my body to hardship. I accompanied the whale-fishers on several expeditions to the North Sea; I voluntarily endured cold, famine, thirst, and want of sleep; I often #another# worked harder than the common sailors during the day and devoted my nights to the study of mathematics, the theory of medicine, and those branches of physical science from which a naval adventurer might derive the greatest practical advantage. Twice I actually hired myself as an under-mate in a Greenland whaler, and acquitted myself to admiration. I must own I felt a little proud when my captain offered me the second dignity in the vessel and entreated me to remain with the greatest earnestness, so valuable did he consider my services.\n",
    "And now, dear <for< Margaret, do I not deserve to accomplish some great purpose? My life might have been passed in ease and luxury, but I preferred glory to every enticement that wealth placed in my path. Oh, that some encouraging voice would answer in the affirmative! My courage and my resolution is firm; but my hopes fluctuate, and my spirits are often depressed. I am about to proceed on a long and difficult voyage, the emergencies of which will demand all my fortitude: I am required not only to raise the spirits of others, but sometimes to sustain my own, when theirs are failing.\n",
    "This is the most favourable period for travelling in Russia. They fly quickly over the snow in their sledges; the motion is pleasant, and, in my opinion, far more agreeable than that of an English stagecoach. The $amazing!$ cold is not excessive, if you are wrapped in furs—a dress which I have already adopted, for there is a great difference between walking the deck and remaining seated motionless for hours, when no exercise prevents the blood from actually freezing in your veins. I have no ambition to lose my life on the post-road between St. Petersburgh and Archangel. <the<\n",
    "I shall depart for the latter town in a fortnight or three weeks; and my intention is to hire a ship there, which can easily be done by paying the insurance for the owner, *it!* and to engage as many sailors as I think necessary among those who are accustomed to the whale-fishing. I do not intend to sail until the month of June; and when shall I return? Ah, dear sister, how can I answer this question? If I succeed, many, many months, perhaps years, will pass before you and I may meet. If I fail, you will see me again soon, or never.\n",
    "Farewell, my dear, excellent Margaret. Heaven #one!# shower down blessings on you, and save me, that I may again and again testify my gratitude for all your love and kindness.\n",
    "Your affectionate brother,\n",
    "R. Walton<win!<\n",
    "'''"
   ]
  },
  {
   "cell_type": "markdown",
   "metadata": {},
   "source": [
    "## Create doc object and complete data challenge tasks with custom spacy functions/methods"
   ]
  },
  {
   "cell_type": "code",
   "execution_count": 18,
   "metadata": {},
   "outputs": [],
   "source": [
    "nlp = English()"
   ]
  },
  {
   "cell_type": "code",
   "execution_count": 19,
   "metadata": {},
   "outputs": [],
   "source": [
    "doc = nlp.make_doc(text_str)"
   ]
  },
  {
   "attachments": {},
   "cell_type": "markdown",
   "metadata": {},
   "source": [
    "- **Store all distinct words in the text in a dictionary and keep track of the word counts (make sure to strip all punctuation and lower the case of the words**\n",
    "- **Save the distinct word dictionary as a JSON file (call it 'word_count_dict.json')**"
   ]
  },
  {
   "cell_type": "code",
   "execution_count": 20,
   "metadata": {},
   "outputs": [],
   "source": [
    "bag_of_words = doc._.bag_of_words\n",
    "#save to json file\n",
    "(\n",
    "    pd.Series(bag_of_words)\n",
    "    .sort_values(ascending=False)\n",
    "    .to_json('word_count_dict.json')\n",
    ")"
   ]
  },
  {
   "attachments": {},
   "cell_type": "markdown",
   "metadata": {},
   "source": [
    "- **Find 4 hidden sentences in the text (they will be words bookended by special symbols)**\n",
    "- **Save the 4 hidden sentences together as a list of lists, then join them and print them with a for loop**"
   ]
  },
  {
   "cell_type": "code",
   "execution_count": 23,
   "metadata": {},
   "outputs": [
    {
     "name": "stdout",
     "output_type": "stream",
     "text": [
      "You're killin it!\n",
      "Scrapers for the win!\n",
      "You are amazing!\n",
      "Found another one!\n"
     ]
    }
   ],
   "source": [
    "bookend_spans = doc._.bookend_spans(bookend_symbols) #get bookend spans\n",
    "bookend_sentences = [ #list of lists format\n",
    "    ' '.join(x.text[1:-1] for x in span_list) #get rid of bookends in spans\n",
    "    for name,span_list in bookend_spans.items()\n",
    "]\n",
    "for sentence in bookend_sentences:\n",
    "    print(sentence)"
   ]
  },
  {
   "cell_type": "markdown",
   "metadata": {},
   "source": [
    "- **Remove the 4 hidden sentences from the original text file and save a clean version of the first chapter of Frankenstein to a text file (call it 'Clean_Frankenstein.txt')**"
   ]
  },
  {
   "cell_type": "code",
   "execution_count": 37,
   "metadata": {},
   "outputs": [],
   "source": [
    "clean_text = doc._.text_with_no_bookends()\n",
    "#save text to file\n",
    "with open(\"Clean_Frankenstein.txt\",\"w\") as file:\n",
    "    file.write(clean_text)"
   ]
  },
  {
   "attachments": {},
   "cell_type": "markdown",
   "metadata": {},
   "source": [
    "- **Plot a histogram of the count of words by word length for all words in the document**"
   ]
  },
  {
   "cell_type": "code",
   "execution_count": 58,
   "metadata": {
    "scrolled": true
   },
   "outputs": [
    {
     "data": {
      "image/png": "[encoded data removed]",
      "text/plain": [
       "<Figure size 432x288 with 1 Axes>"
      ]
     },
     "metadata": {
      "needs_background": "light"
     },
     "output_type": "display_data"
    }
   ],
   "source": [
    "word_length_plot = doc._.word_length_plot"
   ]
  },
  {
   "cell_type": "markdown",
   "metadata": {},
   "source": [
    " ## Next Steps\n",
    " \n",
    " - From this prototype, the next step is to make a ScraperClass \n",
    "     - ie automate the steps at the end either by: \n",
    "         1. adding to the spacy nlp object pipeline directly \n",
    "         2. creating a wrapper class that performs plot/post processing steps on top of the Doc."
   ]
  },
  {
   "cell_type": "code",
   "execution_count": null,
   "metadata": {},
   "outputs": [],
   "source": []
  }
 ],
 "metadata": {
  "kernelspec": {
   "display_name": "Python 3",
   "language": "python",
   "name": "python3"
  },
  "language_info": {
   "codemirror_mode": {
    "name": "ipython",
    "version": 3
   },
   "file_extension": ".py",
   "mimetype": "text/x-python",
   "name": "python",
   "nbconvert_exporter": "python",
   "pygments_lexer": "ipython3",
   "version": "3.7.8"
  }
 },
 "nbformat": 4,
 "nbformat_minor": 2
}
